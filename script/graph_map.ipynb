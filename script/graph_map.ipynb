{
 "cells": [
  {
   "cell_type": "code",
   "execution_count": 1,
   "metadata": {},
   "outputs": [],
   "source": [
    "import fiona \n",
    "import geopandas as gpd\n",
    "import os\n",
    "import pandas as pd\n",
    "gpd.io.file.fiona.drvsupport.supported_drivers['KML'] = 'rw'"
   ]
  },
  {
   "cell_type": "code",
   "execution_count": 2,
   "metadata": {},
   "outputs": [],
   "source": [
    "from shapely.geometry import LineString, Point"
   ]
  },
  {
   "cell_type": "markdown",
   "metadata": {},
   "source": [
    "## Segment detection"
   ]
  },
  {
   "cell_type": "markdown",
   "metadata": {},
   "source": [
    "GeoPandas http://geopandas.org/\n",
    "\n",
    "OSMnx https://github.com/gboeing/osmnx\n",
    "\n",
    "geonetworkx https://geonetworkx.readthedocs.io\n",
    "\n",
    "GIS - Geographical Information Systems\n",
    "\n",
    "https://guide.momepy.org/graph/convert"
   ]
  },
  {
   "cell_type": "code",
   "execution_count": 3,
   "metadata": {},
   "outputs": [],
   "source": [
    "input_seg_path = 'C:/Users/pol.marti/Documents/Repositories/tracks/input/segment_v2/'\n",
    "output_path = 'C:/Users/pol.marti/Documents/Repositories/tracks/output/'"
   ]
  },
  {
   "cell_type": "code",
   "execution_count": 4,
   "metadata": {},
   "outputs": [],
   "source": [
    "df_seg = gpd.GeoDataFrame()\n",
    "\n",
    "for f in os.listdir(input_seg_path):\n",
    "    df_seg_ = gpd.read_file(input_seg_path + f, driver='KML')\n",
    "    df_seg = df_seg.append(df_seg_)\n",
    "    #df_.to_file(output_path + f.replace('.kml','.gpx'),  driver='GPX')"
   ]
  },
  {
   "cell_type": "code",
   "execution_count": 5,
   "metadata": {},
   "outputs": [
    {
     "data": {
      "text/html": [
       "<div>\n",
       "<style scoped>\n",
       "    .dataframe tbody tr th:only-of-type {\n",
       "        vertical-align: middle;\n",
       "    }\n",
       "\n",
       "    .dataframe tbody tr th {\n",
       "        vertical-align: top;\n",
       "    }\n",
       "\n",
       "    .dataframe thead th {\n",
       "        text-align: right;\n",
       "    }\n",
       "</style>\n",
       "<table border=\"1\" class=\"dataframe\">\n",
       "  <thead>\n",
       "    <tr style=\"text-align: right;\">\n",
       "      <th></th>\n",
       "      <th>Name</th>\n",
       "      <th>Description</th>\n",
       "      <th>geometry</th>\n",
       "    </tr>\n",
       "  </thead>\n",
       "  <tbody>\n",
       "    <tr>\n",
       "      <th>0</th>\n",
       "      <td>seg0</td>\n",
       "      <td></td>\n",
       "      <td>LINESTRING Z (2.10948 41.47553 0.00000, 2.1097...</td>\n",
       "    </tr>\n",
       "    <tr>\n",
       "      <th>0</th>\n",
       "      <td>seg1</td>\n",
       "      <td></td>\n",
       "      <td>LINESTRING Z (2.10945 41.47561 0.00000, 2.1089...</td>\n",
       "    </tr>\n",
       "    <tr>\n",
       "      <th>0</th>\n",
       "      <td>seg2</td>\n",
       "      <td></td>\n",
       "      <td>LINESTRING Z (2.10949 41.47562 0.00000, 2.1095...</td>\n",
       "    </tr>\n",
       "    <tr>\n",
       "      <th>0</th>\n",
       "      <td>seg3</td>\n",
       "      <td></td>\n",
       "      <td>LINESTRING Z (2.11167 41.47642 0.00000, 2.1120...</td>\n",
       "    </tr>\n",
       "    <tr>\n",
       "      <th>0</th>\n",
       "      <td>seg4</td>\n",
       "      <td></td>\n",
       "      <td>LINESTRING Z (2.11319 41.47678 0.00000, 2.1131...</td>\n",
       "    </tr>\n",
       "    <tr>\n",
       "      <th>0</th>\n",
       "      <td>seg5</td>\n",
       "      <td></td>\n",
       "      <td>LINESTRING Z (2.11320 41.47676 0.00000, 2.1133...</td>\n",
       "    </tr>\n",
       "  </tbody>\n",
       "</table>\n",
       "</div>"
      ],
      "text/plain": [
       "   Name Description                                           geometry\n",
       "0  seg0              LINESTRING Z (2.10948 41.47553 0.00000, 2.1097...\n",
       "0  seg1              LINESTRING Z (2.10945 41.47561 0.00000, 2.1089...\n",
       "0  seg2              LINESTRING Z (2.10949 41.47562 0.00000, 2.1095...\n",
       "0  seg3              LINESTRING Z (2.11167 41.47642 0.00000, 2.1120...\n",
       "0  seg4              LINESTRING Z (2.11319 41.47678 0.00000, 2.1131...\n",
       "0  seg5              LINESTRING Z (2.11320 41.47676 0.00000, 2.1133..."
      ]
     },
     "execution_count": 5,
     "metadata": {},
     "output_type": "execute_result"
    }
   ],
   "source": [
    "df_seg"
   ]
  },
  {
   "cell_type": "code",
   "execution_count": 6,
   "metadata": {},
   "outputs": [
    {
     "data": {
      "text/plain": [
       "0    MULTIPOINT Z (2.10948 41.47553 0.00000, 2.1157...\n",
       "0    MULTIPOINT Z (2.10945 41.47561 0.00000, 2.1115...\n",
       "0    MULTIPOINT Z (2.10949 41.47562 0.00000, 2.1115...\n",
       "0    MULTIPOINT Z (2.11167 41.47642 0.00000, 2.1131...\n",
       "0    MULTIPOINT Z (2.11319 41.47678 0.00000, 2.1155...\n",
       "0    MULTIPOINT Z (2.11320 41.47676 0.00000, 2.1156...\n",
       "dtype: geometry"
      ]
     },
     "execution_count": 6,
     "metadata": {},
     "output_type": "execute_result"
    }
   ],
   "source": [
    "df_seg.geometry.boundary"
   ]
  },
  {
   "cell_type": "code",
   "execution_count": 7,
   "metadata": {},
   "outputs": [
    {
     "ename": "ValueError",
     "evalue": "x attribute access only provided for Point geometries",
     "output_type": "error",
     "traceback": [
      "\u001b[1;31m---------------------------------------------------------------------------\u001b[0m",
      "\u001b[1;31mValueError\u001b[0m                                Traceback (most recent call last)",
      "\u001b[1;32m<ipython-input-7-ca37055060bb>\u001b[0m in \u001b[0;36m<module>\u001b[1;34m\u001b[0m\n\u001b[1;32m----> 1\u001b[1;33m \u001b[0mdf_seg\u001b[0m\u001b[1;33m.\u001b[0m\u001b[0mgeometry\u001b[0m\u001b[1;33m.\u001b[0m\u001b[0mx\u001b[0m\u001b[1;33m\u001b[0m\u001b[1;33m\u001b[0m\u001b[0m\n\u001b[0m",
      "\u001b[1;32m~\\AppData\\Local\\Continuum\\anaconda3\\lib\\site-packages\\geopandas\\geoseries.py\u001b[0m in \u001b[0;36mx\u001b[1;34m(self)\u001b[0m\n\u001b[0;32m    159\u001b[0m     \u001b[1;32mdef\u001b[0m \u001b[0mx\u001b[0m\u001b[1;33m(\u001b[0m\u001b[0mself\u001b[0m\u001b[1;33m)\u001b[0m\u001b[1;33m:\u001b[0m\u001b[1;33m\u001b[0m\u001b[1;33m\u001b[0m\u001b[0m\n\u001b[0;32m    160\u001b[0m         \u001b[1;34m\"\"\"Return the x location of point geometries in a GeoSeries\"\"\"\u001b[0m\u001b[1;33m\u001b[0m\u001b[1;33m\u001b[0m\u001b[0m\n\u001b[1;32m--> 161\u001b[1;33m         \u001b[1;32mreturn\u001b[0m \u001b[0m_delegate_property\u001b[0m\u001b[1;33m(\u001b[0m\u001b[1;34m\"x\"\u001b[0m\u001b[1;33m,\u001b[0m \u001b[0mself\u001b[0m\u001b[1;33m)\u001b[0m\u001b[1;33m\u001b[0m\u001b[1;33m\u001b[0m\u001b[0m\n\u001b[0m\u001b[0;32m    162\u001b[0m \u001b[1;33m\u001b[0m\u001b[0m\n\u001b[0;32m    163\u001b[0m     \u001b[1;33m@\u001b[0m\u001b[0mproperty\u001b[0m\u001b[1;33m\u001b[0m\u001b[1;33m\u001b[0m\u001b[0m\n",
      "\u001b[1;32m~\\AppData\\Local\\Continuum\\anaconda3\\lib\\site-packages\\geopandas\\base.py\u001b[0m in \u001b[0;36m_delegate_property\u001b[1;34m(op, this)\u001b[0m\n\u001b[0;32m     78\u001b[0m     \u001b[1;31m# type: (str, GeoSeries) -> GeoSeries/Series\u001b[0m\u001b[1;33m\u001b[0m\u001b[1;33m\u001b[0m\u001b[1;33m\u001b[0m\u001b[0m\n\u001b[0;32m     79\u001b[0m     \u001b[0ma_this\u001b[0m \u001b[1;33m=\u001b[0m \u001b[0mGeometryArray\u001b[0m\u001b[1;33m(\u001b[0m\u001b[0mthis\u001b[0m\u001b[1;33m.\u001b[0m\u001b[0mgeometry\u001b[0m\u001b[1;33m.\u001b[0m\u001b[0mvalues\u001b[0m\u001b[1;33m)\u001b[0m\u001b[1;33m\u001b[0m\u001b[1;33m\u001b[0m\u001b[0m\n\u001b[1;32m---> 80\u001b[1;33m     \u001b[0mdata\u001b[0m \u001b[1;33m=\u001b[0m \u001b[0mgetattr\u001b[0m\u001b[1;33m(\u001b[0m\u001b[0ma_this\u001b[0m\u001b[1;33m,\u001b[0m \u001b[0mop\u001b[0m\u001b[1;33m)\u001b[0m\u001b[1;33m\u001b[0m\u001b[1;33m\u001b[0m\u001b[0m\n\u001b[0m\u001b[0;32m     81\u001b[0m     \u001b[1;32mif\u001b[0m \u001b[0misinstance\u001b[0m\u001b[1;33m(\u001b[0m\u001b[0mdata\u001b[0m\u001b[1;33m,\u001b[0m \u001b[0mGeometryArray\u001b[0m\u001b[1;33m)\u001b[0m\u001b[1;33m:\u001b[0m\u001b[1;33m\u001b[0m\u001b[1;33m\u001b[0m\u001b[0m\n\u001b[0;32m     82\u001b[0m         \u001b[1;32mfrom\u001b[0m \u001b[1;33m.\u001b[0m\u001b[0mgeoseries\u001b[0m \u001b[1;32mimport\u001b[0m \u001b[0mGeoSeries\u001b[0m\u001b[1;33m\u001b[0m\u001b[1;33m\u001b[0m\u001b[0m\n",
      "\u001b[1;32m~\\AppData\\Local\\Continuum\\anaconda3\\lib\\site-packages\\geopandas\\array.py\u001b[0m in \u001b[0;36mx\u001b[1;34m(self)\u001b[0m\n\u001b[0;32m    720\u001b[0m         \u001b[1;32melse\u001b[0m\u001b[1;33m:\u001b[0m\u001b[1;33m\u001b[0m\u001b[1;33m\u001b[0m\u001b[0m\n\u001b[0;32m    721\u001b[0m             \u001b[0mmessage\u001b[0m \u001b[1;33m=\u001b[0m \u001b[1;34m\"x attribute access only provided for Point geometries\"\u001b[0m\u001b[1;33m\u001b[0m\u001b[1;33m\u001b[0m\u001b[0m\n\u001b[1;32m--> 722\u001b[1;33m             \u001b[1;32mraise\u001b[0m \u001b[0mValueError\u001b[0m\u001b[1;33m(\u001b[0m\u001b[0mmessage\u001b[0m\u001b[1;33m)\u001b[0m\u001b[1;33m\u001b[0m\u001b[1;33m\u001b[0m\u001b[0m\n\u001b[0m\u001b[0;32m    723\u001b[0m \u001b[1;33m\u001b[0m\u001b[0m\n\u001b[0;32m    724\u001b[0m     \u001b[1;33m@\u001b[0m\u001b[0mproperty\u001b[0m\u001b[1;33m\u001b[0m\u001b[1;33m\u001b[0m\u001b[0m\n",
      "\u001b[1;31mValueError\u001b[0m: x attribute access only provided for Point geometries"
     ]
    }
   ],
   "source": [
    "df_seg.geometry.x"
   ]
  },
  {
   "cell_type": "code",
   "execution_count": 8,
   "metadata": {},
   "outputs": [
    {
     "data": {
      "text/plain": [
       "(1.999999, 0.0, 3.0, 4.47560985807765)"
      ]
     },
     "execution_count": 8,
     "metadata": {},
     "output_type": "execute_result"
    }
   ],
   "source": [
    "line = LineString([(1.999999, 0), (2, 4), (3, 4.47560985807765)])\n",
    "line.bounds"
   ]
  },
  {
   "cell_type": "code",
   "execution_count": 9,
   "metadata": {},
   "outputs": [
    {
     "data": {
      "text/plain": [
       "1.999999"
      ]
     },
     "execution_count": 9,
     "metadata": {},
     "output_type": "execute_result"
    }
   ],
   "source": [
    "line.boundary[0].x"
   ]
  },
  {
   "cell_type": "code",
   "execution_count": 10,
   "metadata": {},
   "outputs": [
    {
     "data": {
      "text/plain": [
       "<shapely.coords.CoordinateSequence at 0x238b53f0128>"
      ]
     },
     "execution_count": 10,
     "metadata": {},
     "output_type": "execute_result"
    }
   ],
   "source": [
    "line.coords"
   ]
  },
  {
   "cell_type": "code",
   "execution_count": 11,
   "metadata": {},
   "outputs": [
    {
     "ename": "TypeError",
     "evalue": "'LineString' object is not subscriptable",
     "output_type": "error",
     "traceback": [
      "\u001b[1;31m---------------------------------------------------------------------------\u001b[0m",
      "\u001b[1;31mTypeError\u001b[0m                                 Traceback (most recent call last)",
      "\u001b[1;32m<ipython-input-11-3f3dfd8aa97f>\u001b[0m in \u001b[0;36m<module>\u001b[1;34m\u001b[0m\n\u001b[1;32m----> 1\u001b[1;33m \u001b[0mPoint\u001b[0m\u001b[1;33m(\u001b[0m\u001b[0mline\u001b[0m\u001b[1;33m[\u001b[0m\u001b[1;34m'geometry'\u001b[0m\u001b[1;33m]\u001b[0m\u001b[1;33m[\u001b[0m\u001b[1;34m'coordinates'\u001b[0m\u001b[1;33m]\u001b[0m\u001b[1;33m[\u001b[0m\u001b[1;36m0\u001b[0m\u001b[1;33m]\u001b[0m\u001b[1;33m)\u001b[0m\u001b[1;33m,\u001b[0m \u001b[0mPoint\u001b[0m\u001b[1;33m(\u001b[0m\u001b[0mline\u001b[0m\u001b[1;33m[\u001b[0m\u001b[1;34m'geometry'\u001b[0m\u001b[1;33m]\u001b[0m\u001b[1;33m[\u001b[0m\u001b[1;34m'coordinates'\u001b[0m\u001b[1;33m]\u001b[0m\u001b[1;33m[\u001b[0m\u001b[1;33m-\u001b[0m\u001b[1;36m1\u001b[0m\u001b[1;33m]\u001b[0m\u001b[1;33m)\u001b[0m\u001b[1;33m\u001b[0m\u001b[1;33m\u001b[0m\u001b[0m\n\u001b[0m",
      "\u001b[1;31mTypeError\u001b[0m: 'LineString' object is not subscriptable"
     ]
    }
   ],
   "source": [
    "Point(line['geometry']['coordinates'][0]), Point(line['geometry']['coordinates'][-1])"
   ]
  },
  {
   "cell_type": "code",
   "execution_count": 12,
   "metadata": {},
   "outputs": [
    {
     "data": {
      "text/plain": [
       "[(2.10944798648038, 41.47560985807765, 0.0),\n",
       " (2.108904135113638, 41.47600128235258, 0.0),\n",
       " (2.10887535133274, 41.4761976904782, 0.0),\n",
       " (2.109151161187175, 41.4762933606708, 0.0),\n",
       " (2.109281604651125, 41.47640642975917, 0.0),\n",
       " (2.109312860073696, 41.47668594475458, 0.0),\n",
       " (2.110793596494154, 41.47740471071972, 0.0),\n",
       " (2.110993603329008, 41.47735017561504, 0.0),\n",
       " (2.11119268948381, 41.4770815963198, 0.0),\n",
       " (2.111415538311741, 41.47697351397558, 0.0),\n",
       " (2.111749384227273, 41.47682811278117, 0.0),\n",
       " (2.111734124310383, 41.47662869752476, 0.0),\n",
       " (2.111593799403688, 41.47646744467919, 0.0)]"
      ]
     },
     "execution_count": 12,
     "metadata": {},
     "output_type": "execute_result"
    }
   ],
   "source": [
    "list(df_seg.iloc[1].geometry.coords)"
   ]
  },
  {
   "cell_type": "code",
   "execution_count": 13,
   "metadata": {},
   "outputs": [
    {
     "data": {
      "text/plain": [
       "<shapely.coords.CoordinateSequence at 0x238b53f0c18>"
      ]
     },
     "execution_count": 13,
     "metadata": {},
     "output_type": "execute_result"
    }
   ],
   "source": [
    "df_seg.iloc[0].geometry.coords"
   ]
  },
  {
   "cell_type": "code",
   "execution_count": 14,
   "metadata": {},
   "outputs": [],
   "source": [
    "startpts = gpd.GeoSeries([Point(list(pt['geometry'].coords)[0]) for i,pt in df_seg.iterrows()])\n",
    "endpts = gpd.GeoSeries([Point(list(pt['geometry'].coords)[-1]) for i,pt in df_seg.iterrows()])\n",
    "points = startpts.append(endpts)\n",
    "result = gpd.GeoDataFrame(points,columns=['geometry'])\n",
    "# add a field\n",
    "result['id']= result.index"
   ]
  },
  {
   "cell_type": "code",
   "execution_count": 15,
   "metadata": {},
   "outputs": [
    {
     "data": {
      "text/html": [
       "<div>\n",
       "<style scoped>\n",
       "    .dataframe tbody tr th:only-of-type {\n",
       "        vertical-align: middle;\n",
       "    }\n",
       "\n",
       "    .dataframe tbody tr th {\n",
       "        vertical-align: top;\n",
       "    }\n",
       "\n",
       "    .dataframe thead th {\n",
       "        text-align: right;\n",
       "    }\n",
       "</style>\n",
       "<table border=\"1\" class=\"dataframe\">\n",
       "  <thead>\n",
       "    <tr style=\"text-align: right;\">\n",
       "      <th></th>\n",
       "      <th>geometry</th>\n",
       "      <th>id</th>\n",
       "    </tr>\n",
       "  </thead>\n",
       "  <tbody>\n",
       "    <tr>\n",
       "      <th>0</th>\n",
       "      <td>POINT Z (2.10948 41.47553 0.00000)</td>\n",
       "      <td>0</td>\n",
       "    </tr>\n",
       "    <tr>\n",
       "      <th>1</th>\n",
       "      <td>POINT Z (2.10945 41.47561 0.00000)</td>\n",
       "      <td>1</td>\n",
       "    </tr>\n",
       "    <tr>\n",
       "      <th>2</th>\n",
       "      <td>POINT Z (2.10949 41.47562 0.00000)</td>\n",
       "      <td>2</td>\n",
       "    </tr>\n",
       "    <tr>\n",
       "      <th>3</th>\n",
       "      <td>POINT Z (2.11167 41.47642 0.00000)</td>\n",
       "      <td>3</td>\n",
       "    </tr>\n",
       "    <tr>\n",
       "      <th>4</th>\n",
       "      <td>POINT Z (2.11319 41.47678 0.00000)</td>\n",
       "      <td>4</td>\n",
       "    </tr>\n",
       "    <tr>\n",
       "      <th>5</th>\n",
       "      <td>POINT Z (2.11320 41.47676 0.00000)</td>\n",
       "      <td>5</td>\n",
       "    </tr>\n",
       "    <tr>\n",
       "      <th>0</th>\n",
       "      <td>POINT Z (2.11572 41.47625 0.00000)</td>\n",
       "      <td>0</td>\n",
       "    </tr>\n",
       "    <tr>\n",
       "      <th>1</th>\n",
       "      <td>POINT Z (2.11159 41.47647 0.00000)</td>\n",
       "      <td>1</td>\n",
       "    </tr>\n",
       "    <tr>\n",
       "      <th>2</th>\n",
       "      <td>POINT Z (2.11159 41.47643 0.00000)</td>\n",
       "      <td>2</td>\n",
       "    </tr>\n",
       "    <tr>\n",
       "      <th>3</th>\n",
       "      <td>POINT Z (2.11314 41.47675 0.00000)</td>\n",
       "      <td>3</td>\n",
       "    </tr>\n",
       "    <tr>\n",
       "      <th>4</th>\n",
       "      <td>POINT Z (2.11558 41.47632 0.00000)</td>\n",
       "      <td>4</td>\n",
       "    </tr>\n",
       "    <tr>\n",
       "      <th>5</th>\n",
       "      <td>POINT Z (2.11560 41.47627 0.00000)</td>\n",
       "      <td>5</td>\n",
       "    </tr>\n",
       "  </tbody>\n",
       "</table>\n",
       "</div>"
      ],
      "text/plain": [
       "                             geometry  id\n",
       "0  POINT Z (2.10948 41.47553 0.00000)   0\n",
       "1  POINT Z (2.10945 41.47561 0.00000)   1\n",
       "2  POINT Z (2.10949 41.47562 0.00000)   2\n",
       "3  POINT Z (2.11167 41.47642 0.00000)   3\n",
       "4  POINT Z (2.11319 41.47678 0.00000)   4\n",
       "5  POINT Z (2.11320 41.47676 0.00000)   5\n",
       "0  POINT Z (2.11572 41.47625 0.00000)   0\n",
       "1  POINT Z (2.11159 41.47647 0.00000)   1\n",
       "2  POINT Z (2.11159 41.47643 0.00000)   2\n",
       "3  POINT Z (2.11314 41.47675 0.00000)   3\n",
       "4  POINT Z (2.11558 41.47632 0.00000)   4\n",
       "5  POINT Z (2.11560 41.47627 0.00000)   5"
      ]
     },
     "execution_count": 15,
     "metadata": {},
     "output_type": "execute_result"
    }
   ],
   "source": [
    "result"
   ]
  },
  {
   "cell_type": "code",
   "execution_count": 16,
   "metadata": {},
   "outputs": [
    {
     "data": {
      "text/plain": [
       "0    POINT Z (2.11572 41.47625 0.00000)\n",
       "1    POINT Z (2.11159 41.47647 0.00000)\n",
       "2    POINT Z (2.11159 41.47643 0.00000)\n",
       "3    POINT Z (2.11314 41.47675 0.00000)\n",
       "4    POINT Z (2.11558 41.47632 0.00000)\n",
       "5    POINT Z (2.11560 41.47627 0.00000)\n",
       "dtype: geometry"
      ]
     },
     "execution_count": 16,
     "metadata": {},
     "output_type": "execute_result"
    }
   ],
   "source": [
    "endpts"
   ]
  },
  {
   "cell_type": "code",
   "execution_count": 17,
   "metadata": {},
   "outputs": [
    {
     "ename": "NameError",
     "evalue": "name 'df_bounds' is not defined",
     "output_type": "error",
     "traceback": [
      "\u001b[1;31m---------------------------------------------------------------------------\u001b[0m",
      "\u001b[1;31mNameError\u001b[0m                                 Traceback (most recent call last)",
      "\u001b[1;32m<ipython-input-17-a591e78ae46a>\u001b[0m in \u001b[0;36m<module>\u001b[1;34m\u001b[0m\n\u001b[1;32m----> 1\u001b[1;33m \u001b[0mdf_bounds_x\u001b[0m \u001b[1;33m=\u001b[0m \u001b[0mpd\u001b[0m\u001b[1;33m.\u001b[0m\u001b[0mmelt\u001b[0m\u001b[1;33m(\u001b[0m\u001b[0mdf_bounds\u001b[0m\u001b[1;33m,\u001b[0m \u001b[0mid_vars\u001b[0m\u001b[1;33m=\u001b[0m\u001b[1;33m[\u001b[0m\u001b[1;34m'Name'\u001b[0m\u001b[1;33m]\u001b[0m\u001b[1;33m,\u001b[0m \u001b[0mvalue_vars\u001b[0m\u001b[1;33m=\u001b[0m\u001b[1;33m[\u001b[0m\u001b[1;34m'minx'\u001b[0m\u001b[1;33m,\u001b[0m \u001b[1;34m'maxx'\u001b[0m\u001b[1;33m]\u001b[0m\u001b[1;33m)\u001b[0m\u001b[1;33m\u001b[0m\u001b[1;33m\u001b[0m\u001b[0m\n\u001b[0m\u001b[0;32m      2\u001b[0m \u001b[0mdf_bounds_y\u001b[0m \u001b[1;33m=\u001b[0m \u001b[0mpd\u001b[0m\u001b[1;33m.\u001b[0m\u001b[0mmelt\u001b[0m\u001b[1;33m(\u001b[0m\u001b[0mdf_bounds\u001b[0m\u001b[1;33m,\u001b[0m \u001b[0mid_vars\u001b[0m\u001b[1;33m=\u001b[0m\u001b[1;33m[\u001b[0m\u001b[1;34m'Name'\u001b[0m\u001b[1;33m]\u001b[0m\u001b[1;33m,\u001b[0m \u001b[0mvalue_vars\u001b[0m\u001b[1;33m=\u001b[0m\u001b[1;33m[\u001b[0m\u001b[1;34m'miny'\u001b[0m\u001b[1;33m,\u001b[0m \u001b[1;34m'maxy'\u001b[0m\u001b[1;33m]\u001b[0m\u001b[1;33m)\u001b[0m\u001b[1;33m\u001b[0m\u001b[1;33m\u001b[0m\u001b[0m\n\u001b[0;32m      3\u001b[0m \u001b[1;33m\u001b[0m\u001b[0m\n\u001b[0;32m      4\u001b[0m \u001b[0mdf_bounds_x\u001b[0m\u001b[1;33m.\u001b[0m\u001b[0mvariable\u001b[0m \u001b[1;33m=\u001b[0m \u001b[0mdf_bounds_x\u001b[0m\u001b[1;33m.\u001b[0m\u001b[0mvariable\u001b[0m\u001b[1;33m.\u001b[0m\u001b[0mstr\u001b[0m\u001b[1;33m.\u001b[0m\u001b[0mreplace\u001b[0m\u001b[1;33m(\u001b[0m\u001b[1;34mr'x$'\u001b[0m\u001b[1;33m,\u001b[0m \u001b[1;34m''\u001b[0m\u001b[1;33m)\u001b[0m\u001b[1;33m\u001b[0m\u001b[1;33m\u001b[0m\u001b[0m\n\u001b[0;32m      5\u001b[0m \u001b[0mdf_bounds_x\u001b[0m \u001b[1;33m=\u001b[0m \u001b[0mdf_bounds_x\u001b[0m\u001b[1;33m.\u001b[0m\u001b[0mrename\u001b[0m\u001b[1;33m(\u001b[0m\u001b[0mcolumns\u001b[0m\u001b[1;33m=\u001b[0m\u001b[1;33m{\u001b[0m\u001b[1;34m\"value\"\u001b[0m\u001b[1;33m:\u001b[0m \u001b[1;34m\"x\"\u001b[0m\u001b[1;33m}\u001b[0m\u001b[1;33m)\u001b[0m\u001b[1;33m\u001b[0m\u001b[1;33m\u001b[0m\u001b[0m\n",
      "\u001b[1;31mNameError\u001b[0m: name 'df_bounds' is not defined"
     ]
    }
   ],
   "source": [
    "\n",
    "\n",
    "df_bounds_x = pd.melt(df_bounds, id_vars=['Name'], value_vars=['minx', 'maxx'])\n",
    "df_bounds_y = pd.melt(df_bounds, id_vars=['Name'], value_vars=['miny', 'maxy'])\n",
    "\n",
    "df_bounds_x.variable = df_bounds_x.variable.str.replace(r'x$', '')\n",
    "df_bounds_x = df_bounds_x.rename(columns={\"value\": \"x\"})\n",
    "\n",
    "df_bounds_y.variable = df_bounds_y.variable.str.replace(r'y$', '')\n",
    "df_bounds_y = df_bounds_y.rename(columns={\"value\": \"y\"})\n",
    "\n",
    "df_bounds = df_bounds_x.merge(df_bounds_y)"
   ]
  },
  {
   "cell_type": "code",
   "execution_count": 18,
   "metadata": {},
   "outputs": [
    {
     "ename": "NameError",
     "evalue": "name 'df_bounds' is not defined",
     "output_type": "error",
     "traceback": [
      "\u001b[1;31m---------------------------------------------------------------------------\u001b[0m",
      "\u001b[1;31mNameError\u001b[0m                                 Traceback (most recent call last)",
      "\u001b[1;32m<ipython-input-18-324f52ad0eae>\u001b[0m in \u001b[0;36m<module>\u001b[1;34m\u001b[0m\n\u001b[1;32m----> 1\u001b[1;33m \u001b[0mdf_bounds\u001b[0m\u001b[1;33m\u001b[0m\u001b[1;33m\u001b[0m\u001b[0m\n\u001b[0m",
      "\u001b[1;31mNameError\u001b[0m: name 'df_bounds' is not defined"
     ]
    }
   ],
   "source": [
    "df_bounds"
   ]
  },
  {
   "cell_type": "code",
   "execution_count": 19,
   "metadata": {},
   "outputs": [
    {
     "ename": "NameError",
     "evalue": "name 'plt' is not defined",
     "output_type": "error",
     "traceback": [
      "\u001b[1;31m---------------------------------------------------------------------------\u001b[0m",
      "\u001b[1;31mNameError\u001b[0m                                 Traceback (most recent call last)",
      "\u001b[1;32m<ipython-input-19-a70199743742>\u001b[0m in \u001b[0;36m<module>\u001b[1;34m\u001b[0m\n\u001b[1;32m----> 1\u001b[1;33m \u001b[0mplt\u001b[0m\u001b[1;33m.\u001b[0m\u001b[0mfigure\u001b[0m\u001b[1;33m(\u001b[0m\u001b[0mfigsize\u001b[0m\u001b[1;33m=\u001b[0m\u001b[1;33m(\u001b[0m\u001b[1;36m10\u001b[0m\u001b[1;33m,\u001b[0m\u001b[1;36m10\u001b[0m\u001b[1;33m)\u001b[0m\u001b[1;33m)\u001b[0m\u001b[1;33m\u001b[0m\u001b[1;33m\u001b[0m\u001b[0m\n\u001b[0m\u001b[0;32m      2\u001b[0m \u001b[0mplt\u001b[0m\u001b[1;33m.\u001b[0m\u001b[0mscatter\u001b[0m\u001b[1;33m(\u001b[0m\u001b[0mdf_bounds\u001b[0m\u001b[1;33m.\u001b[0m\u001b[0mx\u001b[0m\u001b[1;33m,\u001b[0m \u001b[0mdf_bounds\u001b[0m\u001b[1;33m.\u001b[0m\u001b[0my\u001b[0m\u001b[1;33m)\u001b[0m\u001b[1;33m\u001b[0m\u001b[1;33m\u001b[0m\u001b[0m\n",
      "\u001b[1;31mNameError\u001b[0m: name 'plt' is not defined"
     ]
    }
   ],
   "source": [
    "plt.figure(figsize=(10,10))\n",
    "plt.scatter(df_bounds.x, df_bounds.y)"
   ]
  },
  {
   "cell_type": "code",
   "execution_count": 20,
   "metadata": {},
   "outputs": [
    {
     "data": {
      "text/plain": [
       "True"
      ]
     },
     "execution_count": 20,
     "metadata": {},
     "output_type": "execute_result"
    }
   ],
   "source": [
    "a = LineString([(1, 1), (0, 0)])\n",
    "b = LineString([(1, 1), (2, 2)])\n",
    "a.touches(b)"
   ]
  },
  {
   "cell_type": "code",
   "execution_count": 21,
   "metadata": {},
   "outputs": [
    {
     "ename": "NameError",
     "evalue": "name 'momepy' is not defined",
     "output_type": "error",
     "traceback": [
      "\u001b[1;31m---------------------------------------------------------------------------\u001b[0m",
      "\u001b[1;31mNameError\u001b[0m                                 Traceback (most recent call last)",
      "\u001b[1;32m<ipython-input-21-040a066a1cb9>\u001b[0m in \u001b[0;36m<module>\u001b[1;34m\u001b[0m\n\u001b[1;32m----> 1\u001b[1;33m \u001b[0mgraph\u001b[0m \u001b[1;33m=\u001b[0m \u001b[0mmomepy\u001b[0m\u001b[1;33m.\u001b[0m\u001b[0mgdf_to_nx\u001b[0m\u001b[1;33m(\u001b[0m\u001b[0mdf_seg\u001b[0m\u001b[1;33m,\u001b[0m \u001b[0mapproach\u001b[0m\u001b[1;33m=\u001b[0m\u001b[1;34m'primal'\u001b[0m\u001b[1;33m)\u001b[0m\u001b[1;33m\u001b[0m\u001b[1;33m\u001b[0m\u001b[0m\n\u001b[0m\u001b[0;32m      2\u001b[0m \u001b[0mnx\u001b[0m\u001b[1;33m.\u001b[0m\u001b[0mdraw\u001b[0m\u001b[1;33m(\u001b[0m\u001b[0mgraph\u001b[0m\u001b[1;33m)\u001b[0m\u001b[1;33m\u001b[0m\u001b[1;33m\u001b[0m\u001b[0m\n",
      "\u001b[1;31mNameError\u001b[0m: name 'momepy' is not defined"
     ]
    }
   ],
   "source": [
    "graph = momepy.gdf_to_nx(df_seg, approach='primal')\n",
    "nx.draw(graph)"
   ]
  },
  {
   "cell_type": "markdown",
   "metadata": {},
   "source": [
    "## Node detection"
   ]
  },
  {
   "cell_type": "code",
   "execution_count": 22,
   "metadata": {},
   "outputs": [],
   "source": [
    "input_nod_path = 'C:/Users/pol.marti/Documents/Repositories/tracks/input/node_v1/'"
   ]
  },
  {
   "cell_type": "code",
   "execution_count": 23,
   "metadata": {},
   "outputs": [],
   "source": [
    "df_nod = gpd.GeoDataFrame()\n",
    "\n",
    "for f in os.listdir(input_nod_path):\n",
    "    df_nod_ = gpd.read_file(input_nod_path + f, driver='KML')\n",
    "    df_nod = df_nod.append(df_nod_)\n",
    "    #df_.to_file(output_path + f.replace('.kml','.gpx'),  driver='GPX')"
   ]
  },
  {
   "cell_type": "code",
   "execution_count": 24,
   "metadata": {},
   "outputs": [
    {
     "data": {
      "text/html": [
       "<div>\n",
       "<style scoped>\n",
       "    .dataframe tbody tr th:only-of-type {\n",
       "        vertical-align: middle;\n",
       "    }\n",
       "\n",
       "    .dataframe tbody tr th {\n",
       "        vertical-align: top;\n",
       "    }\n",
       "\n",
       "    .dataframe thead th {\n",
       "        text-align: right;\n",
       "    }\n",
       "</style>\n",
       "<table border=\"1\" class=\"dataframe\">\n",
       "  <thead>\n",
       "    <tr style=\"text-align: right;\">\n",
       "      <th></th>\n",
       "      <th>Name</th>\n",
       "      <th>Description</th>\n",
       "      <th>geometry</th>\n",
       "    </tr>\n",
       "  </thead>\n",
       "  <tbody>\n",
       "    <tr>\n",
       "      <th>0</th>\n",
       "      <td>nod0</td>\n",
       "      <td></td>\n",
       "      <td>POINT Z (2.10949 41.47561 0.00000)</td>\n",
       "    </tr>\n",
       "    <tr>\n",
       "      <th>0</th>\n",
       "      <td>nod1</td>\n",
       "      <td></td>\n",
       "      <td>POINT Z (2.11166 41.47646 0.00000)</td>\n",
       "    </tr>\n",
       "    <tr>\n",
       "      <th>0</th>\n",
       "      <td>nod2</td>\n",
       "      <td></td>\n",
       "      <td>POINT Z (2.11317 41.47677 0.00000)</td>\n",
       "    </tr>\n",
       "    <tr>\n",
       "      <th>0</th>\n",
       "      <td>nod3</td>\n",
       "      <td></td>\n",
       "      <td>POINT Z (2.11567 41.47628 0.00000)</td>\n",
       "    </tr>\n",
       "  </tbody>\n",
       "</table>\n",
       "</div>"
      ],
      "text/plain": [
       "   Name Description                            geometry\n",
       "0  nod0              POINT Z (2.10949 41.47561 0.00000)\n",
       "0  nod1              POINT Z (2.11166 41.47646 0.00000)\n",
       "0  nod2              POINT Z (2.11317 41.47677 0.00000)\n",
       "0  nod3              POINT Z (2.11567 41.47628 0.00000)"
      ]
     },
     "execution_count": 24,
     "metadata": {},
     "output_type": "execute_result"
    }
   ],
   "source": [
    "df_nod"
   ]
  },
  {
   "cell_type": "code",
   "execution_count": 25,
   "metadata": {},
   "outputs": [],
   "source": [
    "df = df_seg.append(df_nod)"
   ]
  },
  {
   "cell_type": "code",
   "execution_count": 26,
   "metadata": {},
   "outputs": [
    {
     "data": {
      "text/html": [
       "<div>\n",
       "<style scoped>\n",
       "    .dataframe tbody tr th:only-of-type {\n",
       "        vertical-align: middle;\n",
       "    }\n",
       "\n",
       "    .dataframe tbody tr th {\n",
       "        vertical-align: top;\n",
       "    }\n",
       "\n",
       "    .dataframe thead th {\n",
       "        text-align: right;\n",
       "    }\n",
       "</style>\n",
       "<table border=\"1\" class=\"dataframe\">\n",
       "  <thead>\n",
       "    <tr style=\"text-align: right;\">\n",
       "      <th></th>\n",
       "      <th>Name</th>\n",
       "      <th>Description</th>\n",
       "      <th>geometry</th>\n",
       "    </tr>\n",
       "  </thead>\n",
       "  <tbody>\n",
       "    <tr>\n",
       "      <th>0</th>\n",
       "      <td>seg0</td>\n",
       "      <td></td>\n",
       "      <td>LINESTRING Z (2.10948 41.47553 0.00000, 2.1097...</td>\n",
       "    </tr>\n",
       "    <tr>\n",
       "      <th>0</th>\n",
       "      <td>seg1</td>\n",
       "      <td></td>\n",
       "      <td>LINESTRING Z (2.10945 41.47561 0.00000, 2.1089...</td>\n",
       "    </tr>\n",
       "    <tr>\n",
       "      <th>0</th>\n",
       "      <td>seg2</td>\n",
       "      <td></td>\n",
       "      <td>LINESTRING Z (2.10949 41.47562 0.00000, 2.1095...</td>\n",
       "    </tr>\n",
       "    <tr>\n",
       "      <th>0</th>\n",
       "      <td>seg3</td>\n",
       "      <td></td>\n",
       "      <td>LINESTRING Z (2.11167 41.47642 0.00000, 2.1120...</td>\n",
       "    </tr>\n",
       "    <tr>\n",
       "      <th>0</th>\n",
       "      <td>seg4</td>\n",
       "      <td></td>\n",
       "      <td>LINESTRING Z (2.11319 41.47678 0.00000, 2.1131...</td>\n",
       "    </tr>\n",
       "    <tr>\n",
       "      <th>0</th>\n",
       "      <td>seg5</td>\n",
       "      <td></td>\n",
       "      <td>LINESTRING Z (2.11320 41.47676 0.00000, 2.1133...</td>\n",
       "    </tr>\n",
       "    <tr>\n",
       "      <th>0</th>\n",
       "      <td>nod0</td>\n",
       "      <td></td>\n",
       "      <td>POINT Z (2.10949 41.47561 0.00000)</td>\n",
       "    </tr>\n",
       "    <tr>\n",
       "      <th>0</th>\n",
       "      <td>nod1</td>\n",
       "      <td></td>\n",
       "      <td>POINT Z (2.11166 41.47646 0.00000)</td>\n",
       "    </tr>\n",
       "    <tr>\n",
       "      <th>0</th>\n",
       "      <td>nod2</td>\n",
       "      <td></td>\n",
       "      <td>POINT Z (2.11317 41.47677 0.00000)</td>\n",
       "    </tr>\n",
       "    <tr>\n",
       "      <th>0</th>\n",
       "      <td>nod3</td>\n",
       "      <td></td>\n",
       "      <td>POINT Z (2.11567 41.47628 0.00000)</td>\n",
       "    </tr>\n",
       "  </tbody>\n",
       "</table>\n",
       "</div>"
      ],
      "text/plain": [
       "   Name Description                                           geometry\n",
       "0  seg0              LINESTRING Z (2.10948 41.47553 0.00000, 2.1097...\n",
       "0  seg1              LINESTRING Z (2.10945 41.47561 0.00000, 2.1089...\n",
       "0  seg2              LINESTRING Z (2.10949 41.47562 0.00000, 2.1095...\n",
       "0  seg3              LINESTRING Z (2.11167 41.47642 0.00000, 2.1120...\n",
       "0  seg4              LINESTRING Z (2.11319 41.47678 0.00000, 2.1131...\n",
       "0  seg5              LINESTRING Z (2.11320 41.47676 0.00000, 2.1133...\n",
       "0  nod0                             POINT Z (2.10949 41.47561 0.00000)\n",
       "0  nod1                             POINT Z (2.11166 41.47646 0.00000)\n",
       "0  nod2                             POINT Z (2.11317 41.47677 0.00000)\n",
       "0  nod3                             POINT Z (2.11567 41.47628 0.00000)"
      ]
     },
     "execution_count": 26,
     "metadata": {},
     "output_type": "execute_result"
    }
   ],
   "source": [
    "df"
   ]
  },
  {
   "cell_type": "code",
   "execution_count": 27,
   "metadata": {},
   "outputs": [
    {
     "data": {
      "text/plain": [
       "<matplotlib.axes._subplots.AxesSubplot at 0x238b575e898>"
      ]
     },
     "execution_count": 27,
     "metadata": {},
     "output_type": "execute_result"
    },
    {
     "data": {
      "image/png": "[encoded data removed]",
      "text/plain": [
       "<Figure size 720x720 with 1 Axes>"
      ]
     },
     "metadata": {
      "needs_background": "light"
     },
     "output_type": "display_data"
    }
   ],
   "source": [
    "df.plot(figsize=(10, 10), edgecolor='k',column='Name', legend = 'True')\n"
   ]
  },
  {
   "cell_type": "code",
   "execution_count": 28,
   "metadata": {},
   "outputs": [],
   "source": [
    "#Add nod0 to seg1\n"
   ]
  },
  {
   "cell_type": "markdown",
   "metadata": {},
   "source": [
    "## Graph generation"
   ]
  },
  {
   "cell_type": "markdown",
   "metadata": {},
   "source": [
    "NetworkX https://networkx.github.io/"
   ]
  },
  {
   "cell_type": "code",
   "execution_count": 29,
   "metadata": {},
   "outputs": [],
   "source": [
    "import momepy\n",
    "import geopandas as gpd\n",
    "import matplotlib.pyplot as plt\n",
    "import networkx as nx"
   ]
  },
  {
   "cell_type": "code",
   "execution_count": 30,
   "metadata": {},
   "outputs": [],
   "source": [
    "streets = gpd.read_file(momepy.datasets.get_path('bubenec'), layer='streets')"
   ]
  },
  {
   "cell_type": "code",
   "execution_count": 31,
   "metadata": {},
   "outputs": [],
   "source": [
    "streets['Name'] = range(len(streets))"
   ]
  },
  {
   "cell_type": "code",
   "execution_count": 32,
   "metadata": {},
   "outputs": [
    {
     "data": {
      "text/plain": [
       "<matplotlib.axes._subplots.AxesSubplot at 0x238b9c288d0>"
      ]
     },
     "execution_count": 32,
     "metadata": {},
     "output_type": "execute_result"
    },
    {
     "data": {
      "image/png": "[encoded data removed]",
      "text/plain": [
       "<Figure size 720x720 with 1 Axes>"
      ]
     },
     "metadata": {
      "needs_background": "light"
     },
     "output_type": "display_data"
    }
   ],
   "source": [
    "streets.plot(figsize=(10, 10), column = 'Name')"
   ]
  },
  {
   "cell_type": "code",
   "execution_count": 33,
   "metadata": {},
   "outputs": [
    {
     "data": {
      "text/html": [
       "<div>\n",
       "<style scoped>\n",
       "    .dataframe tbody tr th:only-of-type {\n",
       "        vertical-align: middle;\n",
       "    }\n",
       "\n",
       "    .dataframe tbody tr th {\n",
       "        vertical-align: top;\n",
       "    }\n",
       "\n",
       "    .dataframe thead th {\n",
       "        text-align: right;\n",
       "    }\n",
       "</style>\n",
       "<table border=\"1\" class=\"dataframe\">\n",
       "  <thead>\n",
       "    <tr style=\"text-align: right;\">\n",
       "      <th></th>\n",
       "      <th>geometry</th>\n",
       "      <th>Name</th>\n",
       "    </tr>\n",
       "  </thead>\n",
       "  <tbody>\n",
       "    <tr>\n",
       "      <th>0</th>\n",
       "      <td>LINESTRING (1603585.640 6464428.774, 1603413.2...</td>\n",
       "      <td>0</td>\n",
       "    </tr>\n",
       "    <tr>\n",
       "      <th>1</th>\n",
       "      <td>LINESTRING (1603268.502 6464060.781, 1603296.8...</td>\n",
       "      <td>1</td>\n",
       "    </tr>\n",
       "    <tr>\n",
       "      <th>2</th>\n",
       "      <td>LINESTRING (1603607.303 6464181.853, 1603592.8...</td>\n",
       "      <td>2</td>\n",
       "    </tr>\n",
       "    <tr>\n",
       "      <th>3</th>\n",
       "      <td>LINESTRING (1603678.970 6464477.215, 1603675.6...</td>\n",
       "      <td>3</td>\n",
       "    </tr>\n",
       "    <tr>\n",
       "      <th>4</th>\n",
       "      <td>LINESTRING (1603537.194 6464558.112, 1603557.6...</td>\n",
       "      <td>4</td>\n",
       "    </tr>\n",
       "  </tbody>\n",
       "</table>\n",
       "</div>"
      ],
      "text/plain": [
       "                                            geometry  Name\n",
       "0  LINESTRING (1603585.640 6464428.774, 1603413.2...     0\n",
       "1  LINESTRING (1603268.502 6464060.781, 1603296.8...     1\n",
       "2  LINESTRING (1603607.303 6464181.853, 1603592.8...     2\n",
       "3  LINESTRING (1603678.970 6464477.215, 1603675.6...     3\n",
       "4  LINESTRING (1603537.194 6464558.112, 1603557.6...     4"
      ]
     },
     "execution_count": 33,
     "metadata": {},
     "output_type": "execute_result"
    }
   ],
   "source": [
    "streets[0:5]"
   ]
  },
  {
   "cell_type": "code",
   "execution_count": 34,
   "metadata": {},
   "outputs": [],
   "source": [
    "graph = momepy.gdf_to_nx(streets, approach='primal')"
   ]
  },
  {
   "cell_type": "code",
   "execution_count": 35,
   "metadata": {},
   "outputs": [
    {
     "data": {
      "image/png": "[encoded data removed]",
      "text/plain": [
       "<Figure size 432x288 with 1 Axes>"
      ]
     },
     "metadata": {},
     "output_type": "display_data"
    }
   ],
   "source": [
    "nx.draw(graph)"
   ]
  },
  {
   "cell_type": "code",
   "execution_count": 36,
   "metadata": {},
   "outputs": [
    {
     "data": {
      "image/png": "[encoded data removed]",
      "text/plain": [
       "<Figure size 432x288 with 1 Axes>"
      ]
     },
     "metadata": {},
     "output_type": "display_data"
    }
   ],
   "source": [
    "dual = momepy.gdf_to_nx(streets, approach='dual')\n",
    "nx.draw(dual)"
   ]
  },
  {
   "cell_type": "code",
   "execution_count": 37,
   "metadata": {},
   "outputs": [],
   "source": [
    "degree = dict(nx.degree(graph))\n",
    "nx.set_node_attributes(graph, degree, 'degree')"
   ]
  },
  {
   "cell_type": "code",
   "execution_count": 38,
   "metadata": {},
   "outputs": [],
   "source": [
    "graph = momepy.node_degree(graph, name='degree')"
   ]
  },
  {
   "cell_type": "code",
   "execution_count": 39,
   "metadata": {},
   "outputs": [],
   "source": [
    "nodes, edges, sw = momepy.nx_to_gdf(graph, points=True, lines=True,\n",
    "                                    spatial_weights=True)"
   ]
  },
  {
   "cell_type": "code",
   "execution_count": 40,
   "metadata": {},
   "outputs": [
    {
     "data": {
      "text/plain": [
       "<matplotlib.axes._subplots.AxesSubplot at 0x238bad81e80>"
      ]
     },
     "execution_count": 40,
     "metadata": {},
     "output_type": "execute_result"
    },
    {
     "data": {
      "image/png": "[encoded data removed]",
      "text/plain": [
       "<Figure size 432x288 with 1 Axes>"
      ]
     },
     "metadata": {
      "needs_background": "light"
     },
     "output_type": "display_data"
    },
    {
     "data": {
      "image/png": "[encoded data removed]",
      "text/plain": [
       "<Figure size 432x288 with 1 Axes>"
      ]
     },
     "metadata": {
      "needs_background": "light"
     },
     "output_type": "display_data"
    }
   ],
   "source": [
    "nodes.plot()\n",
    "edges.plot()"
   ]
  },
  {
   "cell_type": "code",
   "execution_count": 41,
   "metadata": {},
   "outputs": [
    {
     "data": {
      "text/html": [
       "<div>\n",
       "<style scoped>\n",
       "    .dataframe tbody tr th:only-of-type {\n",
       "        vertical-align: middle;\n",
       "    }\n",
       "\n",
       "    .dataframe tbody tr th {\n",
       "        vertical-align: top;\n",
       "    }\n",
       "\n",
       "    .dataframe thead th {\n",
       "        text-align: right;\n",
       "    }\n",
       "</style>\n",
       "<table border=\"1\" class=\"dataframe\">\n",
       "  <thead>\n",
       "    <tr style=\"text-align: right;\">\n",
       "      <th></th>\n",
       "      <th>degree</th>\n",
       "      <th>nodeID</th>\n",
       "      <th>geometry</th>\n",
       "    </tr>\n",
       "  </thead>\n",
       "  <tbody>\n",
       "    <tr>\n",
       "      <th>0</th>\n",
       "      <td>3</td>\n",
       "      <td>1</td>\n",
       "      <td>POINT (1603585.640 6464428.774)</td>\n",
       "    </tr>\n",
       "    <tr>\n",
       "      <th>1</th>\n",
       "      <td>5</td>\n",
       "      <td>2</td>\n",
       "      <td>POINT (1603413.206 6464228.730)</td>\n",
       "    </tr>\n",
       "    <tr>\n",
       "      <th>2</th>\n",
       "      <td>3</td>\n",
       "      <td>3</td>\n",
       "      <td>POINT (1603268.502 6464060.781)</td>\n",
       "    </tr>\n",
       "    <tr>\n",
       "      <th>3</th>\n",
       "      <td>4</td>\n",
       "      <td>4</td>\n",
       "      <td>POINT (1603363.558 6464031.885)</td>\n",
       "    </tr>\n",
       "    <tr>\n",
       "      <th>4</th>\n",
       "      <td>4</td>\n",
       "      <td>5</td>\n",
       "      <td>POINT (1603607.303 6464181.853)</td>\n",
       "    </tr>\n",
       "    <tr>\n",
       "      <th>5</th>\n",
       "      <td>2</td>\n",
       "      <td>6</td>\n",
       "      <td>POINT (1603678.970 6464477.215)</td>\n",
       "    </tr>\n",
       "    <tr>\n",
       "      <th>6</th>\n",
       "      <td>4</td>\n",
       "      <td>7</td>\n",
       "      <td>POINT (1603650.450 6464368.601)</td>\n",
       "    </tr>\n",
       "    <tr>\n",
       "      <th>7</th>\n",
       "      <td>1</td>\n",
       "      <td>8</td>\n",
       "      <td>POINT (1603537.194 6464558.112)</td>\n",
       "    </tr>\n",
       "    <tr>\n",
       "      <th>8</th>\n",
       "      <td>2</td>\n",
       "      <td>9</td>\n",
       "      <td>POINT (1603561.740 6464494.467)</td>\n",
       "    </tr>\n",
       "    <tr>\n",
       "      <th>9</th>\n",
       "      <td>4</td>\n",
       "      <td>10</td>\n",
       "      <td>POINT (1603226.958 6464160.158)</td>\n",
       "    </tr>\n",
       "    <tr>\n",
       "      <th>10</th>\n",
       "      <td>1</td>\n",
       "      <td>11</td>\n",
       "      <td>POINT (1603706.388 6464617.784)</td>\n",
       "    </tr>\n",
       "    <tr>\n",
       "      <th>11</th>\n",
       "      <td>4</td>\n",
       "      <td>12</td>\n",
       "      <td>POINT (1603039.963 6464087.491)</td>\n",
       "    </tr>\n",
       "    <tr>\n",
       "      <th>12</th>\n",
       "      <td>1</td>\n",
       "      <td>13</td>\n",
       "      <td>POINT (1602887.300 6464029.976)</td>\n",
       "    </tr>\n",
       "    <tr>\n",
       "      <th>13</th>\n",
       "      <td>1</td>\n",
       "      <td>14</td>\n",
       "      <td>POINT (1602970.377 6464268.058)</td>\n",
       "    </tr>\n",
       "    <tr>\n",
       "      <th>14</th>\n",
       "      <td>3</td>\n",
       "      <td>15</td>\n",
       "      <td>POINT (1603090.513 6463971.107)</td>\n",
       "    </tr>\n",
       "    <tr>\n",
       "      <th>15</th>\n",
       "      <td>4</td>\n",
       "      <td>16</td>\n",
       "      <td>POINT (1603317.783 6463836.797)</td>\n",
       "    </tr>\n",
       "    <tr>\n",
       "      <th>16</th>\n",
       "      <td>3</td>\n",
       "      <td>17</td>\n",
       "      <td>POINT (1603202.378 6463872.288)</td>\n",
       "    </tr>\n",
       "    <tr>\n",
       "      <th>17</th>\n",
       "      <td>1</td>\n",
       "      <td>18</td>\n",
       "      <td>POINT (1603071.956 6463729.979)</td>\n",
       "    </tr>\n",
       "    <tr>\n",
       "      <th>18</th>\n",
       "      <td>1</td>\n",
       "      <td>19</td>\n",
       "      <td>POINT (1603278.899 6463669.186)</td>\n",
       "    </tr>\n",
       "    <tr>\n",
       "      <th>19</th>\n",
       "      <td>2</td>\n",
       "      <td>20</td>\n",
       "      <td>POINT (1603314.444 6463822.410)</td>\n",
       "    </tr>\n",
       "    <tr>\n",
       "      <th>20</th>\n",
       "      <td>4</td>\n",
       "      <td>21</td>\n",
       "      <td>POINT (1603513.650 6463789.557)</td>\n",
       "    </tr>\n",
       "    <tr>\n",
       "      <th>21</th>\n",
       "      <td>1</td>\n",
       "      <td>22</td>\n",
       "      <td>POINT (1603795.889 6463785.444)</td>\n",
       "    </tr>\n",
       "    <tr>\n",
       "      <th>22</th>\n",
       "      <td>3</td>\n",
       "      <td>23</td>\n",
       "      <td>POINT (1603558.489 6463985.807)</td>\n",
       "    </tr>\n",
       "    <tr>\n",
       "      <th>23</th>\n",
       "      <td>2</td>\n",
       "      <td>24</td>\n",
       "      <td>POINT (1603722.708 6464183.866)</td>\n",
       "    </tr>\n",
       "    <tr>\n",
       "      <th>24</th>\n",
       "      <td>1</td>\n",
       "      <td>25</td>\n",
       "      <td>POINT (1602959.880 6463839.712)</td>\n",
       "    </tr>\n",
       "    <tr>\n",
       "      <th>25</th>\n",
       "      <td>3</td>\n",
       "      <td>26</td>\n",
       "      <td>POINT (1603146.696 6463924.630)</td>\n",
       "    </tr>\n",
       "    <tr>\n",
       "      <th>26</th>\n",
       "      <td>1</td>\n",
       "      <td>27</td>\n",
       "      <td>POINT (1603473.642 6463625.487)</td>\n",
       "    </tr>\n",
       "    <tr>\n",
       "      <th>27</th>\n",
       "      <td>1</td>\n",
       "      <td>28</td>\n",
       "      <td>POINT (1603077.500 6464475.323)</td>\n",
       "    </tr>\n",
       "    <tr>\n",
       "      <th>28</th>\n",
       "      <td>1</td>\n",
       "      <td>29</td>\n",
       "      <td>POINT (1603287.304 6464587.705)</td>\n",
       "    </tr>\n",
       "  </tbody>\n",
       "</table>\n",
       "</div>"
      ],
      "text/plain": [
       "    degree  nodeID                         geometry\n",
       "0        3       1  POINT (1603585.640 6464428.774)\n",
       "1        5       2  POINT (1603413.206 6464228.730)\n",
       "2        3       3  POINT (1603268.502 6464060.781)\n",
       "3        4       4  POINT (1603363.558 6464031.885)\n",
       "4        4       5  POINT (1603607.303 6464181.853)\n",
       "5        2       6  POINT (1603678.970 6464477.215)\n",
       "6        4       7  POINT (1603650.450 6464368.601)\n",
       "7        1       8  POINT (1603537.194 6464558.112)\n",
       "8        2       9  POINT (1603561.740 6464494.467)\n",
       "9        4      10  POINT (1603226.958 6464160.158)\n",
       "10       1      11  POINT (1603706.388 6464617.784)\n",
       "11       4      12  POINT (1603039.963 6464087.491)\n",
       "12       1      13  POINT (1602887.300 6464029.976)\n",
       "13       1      14  POINT (1602970.377 6464268.058)\n",
       "14       3      15  POINT (1603090.513 6463971.107)\n",
       "15       4      16  POINT (1603317.783 6463836.797)\n",
       "16       3      17  POINT (1603202.378 6463872.288)\n",
       "17       1      18  POINT (1603071.956 6463729.979)\n",
       "18       1      19  POINT (1603278.899 6463669.186)\n",
       "19       2      20  POINT (1603314.444 6463822.410)\n",
       "20       4      21  POINT (1603513.650 6463789.557)\n",
       "21       1      22  POINT (1603795.889 6463785.444)\n",
       "22       3      23  POINT (1603558.489 6463985.807)\n",
       "23       2      24  POINT (1603722.708 6464183.866)\n",
       "24       1      25  POINT (1602959.880 6463839.712)\n",
       "25       3      26  POINT (1603146.696 6463924.630)\n",
       "26       1      27  POINT (1603473.642 6463625.487)\n",
       "27       1      28  POINT (1603077.500 6464475.323)\n",
       "28       1      29  POINT (1603287.304 6464587.705)"
      ]
     },
     "execution_count": 41,
     "metadata": {},
     "output_type": "execute_result"
    }
   ],
   "source": [
    "nodes"
   ]
  },
  {
   "cell_type": "code",
   "execution_count": 42,
   "metadata": {},
   "outputs": [
    {
     "data": {
      "text/html": [
       "<div>\n",
       "<style scoped>\n",
       "    .dataframe tbody tr th:only-of-type {\n",
       "        vertical-align: middle;\n",
       "    }\n",
       "\n",
       "    .dataframe tbody tr th {\n",
       "        vertical-align: top;\n",
       "    }\n",
       "\n",
       "    .dataframe thead th {\n",
       "        text-align: right;\n",
       "    }\n",
       "</style>\n",
       "<table border=\"1\" class=\"dataframe\">\n",
       "  <thead>\n",
       "    <tr style=\"text-align: right;\">\n",
       "      <th></th>\n",
       "      <th>geometry</th>\n",
       "      <th>Name</th>\n",
       "      <th>mm_len</th>\n",
       "      <th>node_start</th>\n",
       "      <th>node_end</th>\n",
       "    </tr>\n",
       "  </thead>\n",
       "  <tbody>\n",
       "    <tr>\n",
       "      <th>0</th>\n",
       "      <td>LINESTRING (1603585.640 6464428.774, 1603413.2...</td>\n",
       "      <td>0</td>\n",
       "      <td>264.103950</td>\n",
       "      <td>1</td>\n",
       "      <td>2</td>\n",
       "    </tr>\n",
       "    <tr>\n",
       "      <th>1</th>\n",
       "      <td>LINESTRING (1603561.740 6464494.467, 1603564.6...</td>\n",
       "      <td>14</td>\n",
       "      <td>70.020202</td>\n",
       "      <td>1</td>\n",
       "      <td>9</td>\n",
       "    </tr>\n",
       "    <tr>\n",
       "      <th>2</th>\n",
       "      <td>LINESTRING (1603585.640 6464428.774, 1603603.0...</td>\n",
       "      <td>15</td>\n",
       "      <td>88.924305</td>\n",
       "      <td>1</td>\n",
       "      <td>7</td>\n",
       "    </tr>\n",
       "    <tr>\n",
       "      <th>3</th>\n",
       "      <td>LINESTRING (1603607.303 6464181.853, 1603592.8...</td>\n",
       "      <td>2</td>\n",
       "      <td>199.746503</td>\n",
       "      <td>2</td>\n",
       "      <td>5</td>\n",
       "    </tr>\n",
       "    <tr>\n",
       "      <th>4</th>\n",
       "      <td>LINESTRING (1603363.558 6464031.885, 1603376.5...</td>\n",
       "      <td>5</td>\n",
       "      <td>203.014090</td>\n",
       "      <td>2</td>\n",
       "      <td>4</td>\n",
       "    </tr>\n",
       "    <tr>\n",
       "      <th>5</th>\n",
       "      <td>LINESTRING (1603413.206 6464228.730, 1603274.4...</td>\n",
       "      <td>6</td>\n",
       "      <td>198.482724</td>\n",
       "      <td>2</td>\n",
       "      <td>10</td>\n",
       "    </tr>\n",
       "    <tr>\n",
       "      <th>6</th>\n",
       "      <td>LINESTRING (1603287.304 6464587.705, 1603286.8...</td>\n",
       "      <td>34</td>\n",
       "      <td>382.501950</td>\n",
       "      <td>2</td>\n",
       "      <td>29</td>\n",
       "    </tr>\n",
       "    <tr>\n",
       "      <th>7</th>\n",
       "      <td>LINESTRING (1603268.502 6464060.781, 1603296.8...</td>\n",
       "      <td>1</td>\n",
       "      <td>99.751190</td>\n",
       "      <td>3</td>\n",
       "      <td>4</td>\n",
       "    </tr>\n",
       "    <tr>\n",
       "      <th>8</th>\n",
       "      <td>LINESTRING (1603226.958 6464160.158, 1603232.3...</td>\n",
       "      <td>16</td>\n",
       "      <td>107.880148</td>\n",
       "      <td>3</td>\n",
       "      <td>10</td>\n",
       "    </tr>\n",
       "    <tr>\n",
       "      <th>9</th>\n",
       "      <td>LINESTRING (1603146.696 6463924.630, 1603157.0...</td>\n",
       "      <td>28</td>\n",
       "      <td>182.684974</td>\n",
       "      <td>3</td>\n",
       "      <td>26</td>\n",
       "    </tr>\n",
       "    <tr>\n",
       "      <th>10</th>\n",
       "      <td>LINESTRING (1603363.558 6464031.885, 1603376.0...</td>\n",
       "      <td>19</td>\n",
       "      <td>200.303517</td>\n",
       "      <td>4</td>\n",
       "      <td>23</td>\n",
       "    </tr>\n",
       "    <tr>\n",
       "      <th>11</th>\n",
       "      <td>LINESTRING (1603317.783 6463836.797, 1603361.0...</td>\n",
       "      <td>21</td>\n",
       "      <td>200.386171</td>\n",
       "      <td>4</td>\n",
       "      <td>16</td>\n",
       "    </tr>\n",
       "    <tr>\n",
       "      <th>12</th>\n",
       "      <td>LINESTRING (1603722.708 6464183.866, 1603618.7...</td>\n",
       "      <td>23</td>\n",
       "      <td>115.474080</td>\n",
       "      <td>5</td>\n",
       "      <td>24</td>\n",
       "    </tr>\n",
       "    <tr>\n",
       "      <th>13</th>\n",
       "      <td>LINESTRING (1603650.450 6464368.601, 1603607.3...</td>\n",
       "      <td>24</td>\n",
       "      <td>191.667558</td>\n",
       "      <td>5</td>\n",
       "      <td>7</td>\n",
       "    </tr>\n",
       "    <tr>\n",
       "      <th>14</th>\n",
       "      <td>LINESTRING (1603607.303 6464181.853, 1603558.4...</td>\n",
       "      <td>25</td>\n",
       "      <td>202.031680</td>\n",
       "      <td>5</td>\n",
       "      <td>23</td>\n",
       "    </tr>\n",
       "    <tr>\n",
       "      <th>15</th>\n",
       "      <td>LINESTRING (1603678.970 6464477.215, 1603675.6...</td>\n",
       "      <td>3</td>\n",
       "      <td>112.296576</td>\n",
       "      <td>6</td>\n",
       "      <td>7</td>\n",
       "    </tr>\n",
       "    <tr>\n",
       "      <th>16</th>\n",
       "      <td>LINESTRING (1603706.388 6464617.784, 1603705.7...</td>\n",
       "      <td>7</td>\n",
       "      <td>143.526312</td>\n",
       "      <td>6</td>\n",
       "      <td>11</td>\n",
       "    </tr>\n",
       "    <tr>\n",
       "      <th>17</th>\n",
       "      <td>LINESTRING (1603722.708 6464183.866, 1603697.6...</td>\n",
       "      <td>22</td>\n",
       "      <td>202.378137</td>\n",
       "      <td>7</td>\n",
       "      <td>24</td>\n",
       "    </tr>\n",
       "    <tr>\n",
       "      <th>18</th>\n",
       "      <td>LINESTRING (1603537.194 6464558.112, 1603557.6...</td>\n",
       "      <td>4</td>\n",
       "      <td>68.214706</td>\n",
       "      <td>8</td>\n",
       "      <td>9</td>\n",
       "    </tr>\n",
       "    <tr>\n",
       "      <th>19</th>\n",
       "      <td>LINESTRING (1603226.958 6464160.158, 1603039.9...</td>\n",
       "      <td>8</td>\n",
       "      <td>200.617685</td>\n",
       "      <td>10</td>\n",
       "      <td>12</td>\n",
       "    </tr>\n",
       "    <tr>\n",
       "      <th>20</th>\n",
       "      <td>LINESTRING (1603077.500 6464475.323, 1603085.5...</td>\n",
       "      <td>33</td>\n",
       "      <td>351.155187</td>\n",
       "      <td>10</td>\n",
       "      <td>28</td>\n",
       "    </tr>\n",
       "    <tr>\n",
       "      <th>21</th>\n",
       "      <td>LINESTRING (1603039.963 6464087.491, 1602902.3...</td>\n",
       "      <td>9</td>\n",
       "      <td>163.146282</td>\n",
       "      <td>12</td>\n",
       "      <td>13</td>\n",
       "    </tr>\n",
       "    <tr>\n",
       "      <th>22</th>\n",
       "      <td>LINESTRING (1602970.377 6464268.058, 1602974.0...</td>\n",
       "      <td>10</td>\n",
       "      <td>193.511372</td>\n",
       "      <td>12</td>\n",
       "      <td>14</td>\n",
       "    </tr>\n",
       "    <tr>\n",
       "      <th>23</th>\n",
       "      <td>LINESTRING (1603039.963 6464087.491, 1603074.7...</td>\n",
       "      <td>11</td>\n",
       "      <td>127.800864</td>\n",
       "      <td>12</td>\n",
       "      <td>15</td>\n",
       "    </tr>\n",
       "    <tr>\n",
       "      <th>24</th>\n",
       "      <td>LINESTRING (1602959.880 6463839.712, 1602973.3...</td>\n",
       "      <td>27</td>\n",
       "      <td>187.491847</td>\n",
       "      <td>15</td>\n",
       "      <td>25</td>\n",
       "    </tr>\n",
       "    <tr>\n",
       "      <th>25</th>\n",
       "      <td>LINESTRING (1603090.513 6463971.107, 1603146.6...</td>\n",
       "      <td>29</td>\n",
       "      <td>72.915169</td>\n",
       "      <td>15</td>\n",
       "      <td>26</td>\n",
       "    </tr>\n",
       "    <tr>\n",
       "      <th>26</th>\n",
       "      <td>LINESTRING (1603317.783 6463836.797, 1603217.2...</td>\n",
       "      <td>12</td>\n",
       "      <td>122.531962</td>\n",
       "      <td>16</td>\n",
       "      <td>17</td>\n",
       "    </tr>\n",
       "    <tr>\n",
       "      <th>27</th>\n",
       "      <td>LINESTRING (1603314.444 6463822.410, 1603317.7...</td>\n",
       "      <td>20</td>\n",
       "      <td>14.769654</td>\n",
       "      <td>16</td>\n",
       "      <td>20</td>\n",
       "    </tr>\n",
       "    <tr>\n",
       "      <th>28</th>\n",
       "      <td>LINESTRING (1603317.783 6463836.797, 1603334.9...</td>\n",
       "      <td>32</td>\n",
       "      <td>201.486117</td>\n",
       "      <td>16</td>\n",
       "      <td>21</td>\n",
       "    </tr>\n",
       "    <tr>\n",
       "      <th>29</th>\n",
       "      <td>LINESTRING (1603071.956 6463729.979, 1603089.0...</td>\n",
       "      <td>13</td>\n",
       "      <td>193.040637</td>\n",
       "      <td>17</td>\n",
       "      <td>18</td>\n",
       "    </tr>\n",
       "    <tr>\n",
       "      <th>30</th>\n",
       "      <td>LINESTRING (1603146.696 6463924.630, 1603157.7...</td>\n",
       "      <td>30</td>\n",
       "      <td>76.424653</td>\n",
       "      <td>17</td>\n",
       "      <td>26</td>\n",
       "    </tr>\n",
       "    <tr>\n",
       "      <th>31</th>\n",
       "      <td>LINESTRING (1603278.899 6463669.186, 1603283.7...</td>\n",
       "      <td>17</td>\n",
       "      <td>157.292819</td>\n",
       "      <td>19</td>\n",
       "      <td>20</td>\n",
       "    </tr>\n",
       "    <tr>\n",
       "      <th>32</th>\n",
       "      <td>LINESTRING (1603513.650 6463789.557, 1603542.0...</td>\n",
       "      <td>18</td>\n",
       "      <td>282.690539</td>\n",
       "      <td>21</td>\n",
       "      <td>22</td>\n",
       "    </tr>\n",
       "    <tr>\n",
       "      <th>33</th>\n",
       "      <td>LINESTRING (1603558.489 6463985.807, 1603513.6...</td>\n",
       "      <td>26</td>\n",
       "      <td>201.306972</td>\n",
       "      <td>21</td>\n",
       "      <td>23</td>\n",
       "    </tr>\n",
       "    <tr>\n",
       "      <th>34</th>\n",
       "      <td>LINESTRING (1603513.650 6463789.557, 1603480.1...</td>\n",
       "      <td>31</td>\n",
       "      <td>168.880411</td>\n",
       "      <td>21</td>\n",
       "      <td>27</td>\n",
       "    </tr>\n",
       "  </tbody>\n",
       "</table>\n",
       "</div>"
      ],
      "text/plain": [
       "                                             geometry  Name      mm_len  \\\n",
       "0   LINESTRING (1603585.640 6464428.774, 1603413.2...     0  264.103950   \n",
       "1   LINESTRING (1603561.740 6464494.467, 1603564.6...    14   70.020202   \n",
       "2   LINESTRING (1603585.640 6464428.774, 1603603.0...    15   88.924305   \n",
       "3   LINESTRING (1603607.303 6464181.853, 1603592.8...     2  199.746503   \n",
       "4   LINESTRING (1603363.558 6464031.885, 1603376.5...     5  203.014090   \n",
       "5   LINESTRING (1603413.206 6464228.730, 1603274.4...     6  198.482724   \n",
       "6   LINESTRING (1603287.304 6464587.705, 1603286.8...    34  382.501950   \n",
       "7   LINESTRING (1603268.502 6464060.781, 1603296.8...     1   99.751190   \n",
       "8   LINESTRING (1603226.958 6464160.158, 1603232.3...    16  107.880148   \n",
       "9   LINESTRING (1603146.696 6463924.630, 1603157.0...    28  182.684974   \n",
       "10  LINESTRING (1603363.558 6464031.885, 1603376.0...    19  200.303517   \n",
       "11  LINESTRING (1603317.783 6463836.797, 1603361.0...    21  200.386171   \n",
       "12  LINESTRING (1603722.708 6464183.866, 1603618.7...    23  115.474080   \n",
       "13  LINESTRING (1603650.450 6464368.601, 1603607.3...    24  191.667558   \n",
       "14  LINESTRING (1603607.303 6464181.853, 1603558.4...    25  202.031680   \n",
       "15  LINESTRING (1603678.970 6464477.215, 1603675.6...     3  112.296576   \n",
       "16  LINESTRING (1603706.388 6464617.784, 1603705.7...     7  143.526312   \n",
       "17  LINESTRING (1603722.708 6464183.866, 1603697.6...    22  202.378137   \n",
       "18  LINESTRING (1603537.194 6464558.112, 1603557.6...     4   68.214706   \n",
       "19  LINESTRING (1603226.958 6464160.158, 1603039.9...     8  200.617685   \n",
       "20  LINESTRING (1603077.500 6464475.323, 1603085.5...    33  351.155187   \n",
       "21  LINESTRING (1603039.963 6464087.491, 1602902.3...     9  163.146282   \n",
       "22  LINESTRING (1602970.377 6464268.058, 1602974.0...    10  193.511372   \n",
       "23  LINESTRING (1603039.963 6464087.491, 1603074.7...    11  127.800864   \n",
       "24  LINESTRING (1602959.880 6463839.712, 1602973.3...    27  187.491847   \n",
       "25  LINESTRING (1603090.513 6463971.107, 1603146.6...    29   72.915169   \n",
       "26  LINESTRING (1603317.783 6463836.797, 1603217.2...    12  122.531962   \n",
       "27  LINESTRING (1603314.444 6463822.410, 1603317.7...    20   14.769654   \n",
       "28  LINESTRING (1603317.783 6463836.797, 1603334.9...    32  201.486117   \n",
       "29  LINESTRING (1603071.956 6463729.979, 1603089.0...    13  193.040637   \n",
       "30  LINESTRING (1603146.696 6463924.630, 1603157.7...    30   76.424653   \n",
       "31  LINESTRING (1603278.899 6463669.186, 1603283.7...    17  157.292819   \n",
       "32  LINESTRING (1603513.650 6463789.557, 1603542.0...    18  282.690539   \n",
       "33  LINESTRING (1603558.489 6463985.807, 1603513.6...    26  201.306972   \n",
       "34  LINESTRING (1603513.650 6463789.557, 1603480.1...    31  168.880411   \n",
       "\n",
       "    node_start  node_end  \n",
       "0            1         2  \n",
       "1            1         9  \n",
       "2            1         7  \n",
       "3            2         5  \n",
       "4            2         4  \n",
       "5            2        10  \n",
       "6            2        29  \n",
       "7            3         4  \n",
       "8            3        10  \n",
       "9            3        26  \n",
       "10           4        23  \n",
       "11           4        16  \n",
       "12           5        24  \n",
       "13           5         7  \n",
       "14           5        23  \n",
       "15           6         7  \n",
       "16           6        11  \n",
       "17           7        24  \n",
       "18           8         9  \n",
       "19          10        12  \n",
       "20          10        28  \n",
       "21          12        13  \n",
       "22          12        14  \n",
       "23          12        15  \n",
       "24          15        25  \n",
       "25          15        26  \n",
       "26          16        17  \n",
       "27          16        20  \n",
       "28          16        21  \n",
       "29          17        18  \n",
       "30          17        26  \n",
       "31          19        20  \n",
       "32          21        22  \n",
       "33          21        23  \n",
       "34          21        27  "
      ]
     },
     "execution_count": 42,
     "metadata": {},
     "output_type": "execute_result"
    }
   ],
   "source": [
    "edges"
   ]
  },
  {
   "cell_type": "code",
   "execution_count": 43,
   "metadata": {},
   "outputs": [
    {
     "data": {
      "text/plain": [
       "<libpysal.weights.weights.W at 0x238bae76710>"
      ]
     },
     "execution_count": 43,
     "metadata": {},
     "output_type": "execute_result"
    }
   ],
   "source": [
    "sw"
   ]
  },
  {
   "cell_type": "code",
   "execution_count": null,
   "metadata": {},
   "outputs": [],
   "source": []
  }
 ],
 "metadata": {
  "kernelspec": {
   "display_name": "Python 3",
   "language": "python",
   "name": "python3"
  },
  "language_info": {
   "codemirror_mode": {
    "name": "ipython",
    "version": 3
   },
   "file_extension": ".py",
   "mimetype": "text/x-python",
   "name": "python",
   "nbconvert_exporter": "python",
   "pygments_lexer": "ipython3",
   "version": "3.7.3"
  }
 },
 "nbformat": 4,
 "nbformat_minor": 4
}
